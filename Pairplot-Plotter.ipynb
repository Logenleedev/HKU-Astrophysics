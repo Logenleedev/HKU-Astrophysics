{
 "cells": [
  {
   "cell_type": "code",
   "execution_count": 24,
   "metadata": {
    "scrolled": true
   },
   "outputs": [
    {
     "name": "stdout",
     "output_type": "stream",
     "text": [
      "Collecting seaborn\n",
      "  Using cached https://files.pythonhosted.org/packages/10/5b/0479d7d845b5ba410ca702ffcd7f2cd95a14a4dfff1fde2637802b258b9b/seaborn-0.11.2-py3-none-any.whl\n",
      "Requirement already satisfied: numpy>=1.15 in /Users/jiatongli/Library/Python/3.8/lib/python/site-packages (from seaborn) (1.20.3)\n",
      "Collecting scipy>=1.0 (from seaborn)\n",
      "\u001b[?25l  Downloading https://files.pythonhosted.org/packages/4e/85/0fb2c7f056a614542def7a542112ba7ba6f0626e5fff13edc803d86fd60b/scipy-1.7.1-cp38-cp38-macosx_10_9_x86_64.whl (32.6MB)\n",
      "\u001b[K     |████████████████████████████████| 32.6MB 681kB/s eta 0:00:01\n",
      "\u001b[?25hRequirement already satisfied: pandas>=0.23 in /Users/jiatongli/Library/Python/3.8/lib/python/site-packages (from seaborn) (1.2.4)\n",
      "Collecting matplotlib>=2.2 (from seaborn)\n",
      "\u001b[?25l  Downloading https://files.pythonhosted.org/packages/14/fe/30a42edcdaf7cb809782310c90817dbe7121fc32304b80a7776e3ba2dc53/matplotlib-3.4.3-cp38-cp38-macosx_10_9_x86_64.whl (7.2MB)\n",
      "\u001b[K     |████████████████████████████████| 7.2MB 194kB/s eta 0:00:01\n",
      "\u001b[?25hRequirement already satisfied: pytz>=2017.3 in /Users/jiatongli/Library/Python/3.8/lib/python/site-packages (from pandas>=0.23->seaborn) (2021.1)\n",
      "Requirement already satisfied: python-dateutil>=2.7.3 in /Library/Frameworks/Python.framework/Versions/3.8/lib/python3.8/site-packages (from pandas>=0.23->seaborn) (2.8.1)\n",
      "Collecting cycler>=0.10 (from matplotlib>=2.2->seaborn)\n",
      "  Using cached https://files.pythonhosted.org/packages/f7/d2/e07d3ebb2bd7af696440ce7e754c59dd546ffe1bbe732c8ab68b9c834e61/cycler-0.10.0-py2.py3-none-any.whl\n",
      "Collecting kiwisolver>=1.0.1 (from matplotlib>=2.2->seaborn)\n",
      "\u001b[?25l  Downloading https://files.pythonhosted.org/packages/0c/89/cdd752da48b66f31a0732902cd9800e6d232ce65f6cc4e83f9d9d2bd99aa/kiwisolver-1.3.1-cp38-cp38-macosx_10_9_x86_64.whl (61kB)\n",
      "\u001b[K     |████████████████████████████████| 71kB 178kB/s eta 0:00:01\n",
      "\u001b[?25hCollecting pillow>=6.2.0 (from matplotlib>=2.2->seaborn)\n",
      "\u001b[?25l  Downloading https://files.pythonhosted.org/packages/15/3e/6eb7f8abacc5d5249f032d4f029f665588d42040ef7037716adccd0f9aee/Pillow-8.3.1-cp38-cp38-macosx_10_10_x86_64.whl (2.9MB)\n",
      "\u001b[K     |████████████████████████████████| 2.9MB 419kB/s eta 0:00:01\n",
      "\u001b[?25hRequirement already satisfied: pyparsing>=2.2.1 in /Library/Frameworks/Python.framework/Versions/3.8/lib/python3.8/site-packages (from matplotlib>=2.2->seaborn) (2.4.7)\n",
      "Requirement already satisfied: six>=1.5 in /Library/Frameworks/Python.framework/Versions/3.8/lib/python3.8/site-packages (from python-dateutil>=2.7.3->pandas>=0.23->seaborn) (1.15.0)\n",
      "Installing collected packages: scipy, cycler, kiwisolver, pillow, matplotlib, seaborn\n",
      "Successfully installed cycler-0.10.0 kiwisolver-1.3.1 matplotlib-3.4.3 pillow-8.3.1 scipy-1.7.1 seaborn-0.11.2\n",
      "\u001b[33mWARNING: You are using pip version 19.2.3, however version 21.2.4 is available.\n",
      "You should consider upgrading via the 'pip install --upgrade pip' command.\u001b[0m\n",
      "Note: you may need to restart the kernel to use updated packages.\n"
     ]
    }
   ],
   "source": [
    "%pip install seaborn"
   ]
  },
  {
   "cell_type": "code",
   "execution_count": 1,
   "metadata": {},
   "outputs": [],
   "source": [
    "import pandas as pd\n",
    "import numpy as np\n"
   ]
  },
  {
   "cell_type": "code",
   "execution_count": 3,
   "metadata": {},
   "outputs": [],
   "source": [
    "import seaborn as sns"
   ]
  },
  {
   "cell_type": "code",
   "execution_count": 4,
   "metadata": {},
   "outputs": [],
   "source": [
    "df = pd.read_csv('Post_process_4FGL.csv')  "
   ]
  },
  {
   "cell_type": "code",
   "execution_count": 5,
   "metadata": {},
   "outputs": [
    {
     "data": {
      "text/plain": [
       "['Unnamed: 0',\n",
       " 'class_4FGL',\n",
       " 'Flux1000',\n",
       " 'PL_Index',\n",
       " 'LP_Index',\n",
       " 'LP_SigCurv',\n",
       " 'PLEC_ExpfactorS',\n",
       " 'PLEC_Flux_Density',\n",
       " 'Frac_Variability']"
      ]
     },
     "execution_count": 5,
     "metadata": {},
     "output_type": "execute_result"
    }
   ],
   "source": [
    "list(df.columns)"
   ]
  },
  {
   "cell_type": "code",
   "execution_count": 6,
   "metadata": {},
   "outputs": [],
   "source": [
    "df = df.drop(['Unnamed: 0'], axis=1)"
   ]
  },
  {
   "cell_type": "code",
   "execution_count": 7,
   "metadata": {},
   "outputs": [
    {
     "data": {
      "text/html": [
       "<div>\n",
       "<style scoped>\n",
       "    .dataframe tbody tr th:only-of-type {\n",
       "        vertical-align: middle;\n",
       "    }\n",
       "\n",
       "    .dataframe tbody tr th {\n",
       "        vertical-align: top;\n",
       "    }\n",
       "\n",
       "    .dataframe thead th {\n",
       "        text-align: right;\n",
       "    }\n",
       "</style>\n",
       "<table border=\"1\" class=\"dataframe\">\n",
       "  <thead>\n",
       "    <tr style=\"text-align: right;\">\n",
       "      <th></th>\n",
       "      <th>class_4FGL</th>\n",
       "      <th>Flux1000</th>\n",
       "      <th>PL_Index</th>\n",
       "      <th>LP_Index</th>\n",
       "      <th>LP_SigCurv</th>\n",
       "      <th>PLEC_ExpfactorS</th>\n",
       "      <th>PLEC_Flux_Density</th>\n",
       "      <th>Frac_Variability</th>\n",
       "    </tr>\n",
       "  </thead>\n",
       "  <tbody>\n",
       "    <tr>\n",
       "      <th>0</th>\n",
       "      <td>bcu-bll-fsrq-agn</td>\n",
       "      <td>1.259796e-10</td>\n",
       "      <td>2.271696</td>\n",
       "      <td>2.254081</td>\n",
       "      <td>0.083893</td>\n",
       "      <td>0.029462</td>\n",
       "      <td>2.228697e-14</td>\n",
       "      <td>0.675882</td>\n",
       "    </tr>\n",
       "    <tr>\n",
       "      <th>1</th>\n",
       "      <td>Soft</td>\n",
       "      <td>7.471219e-10</td>\n",
       "      <td>2.116692</td>\n",
       "      <td>2.078927</td>\n",
       "      <td>1.697737</td>\n",
       "      <td>0.063212</td>\n",
       "      <td>2.813444e-13</td>\n",
       "      <td>0.406565</td>\n",
       "    </tr>\n",
       "    <tr>\n",
       "      <th>2</th>\n",
       "      <td>bcu-bll-fsrq-agn</td>\n",
       "      <td>1.082246e-10</td>\n",
       "      <td>1.939160</td>\n",
       "      <td>1.661223</td>\n",
       "      <td>0.425023</td>\n",
       "      <td>0.179718</td>\n",
       "      <td>6.563064e-15</td>\n",
       "      <td>0.000000</td>\n",
       "    </tr>\n",
       "    <tr>\n",
       "      <th>3</th>\n",
       "      <td>Soft</td>\n",
       "      <td>1.347354e-09</td>\n",
       "      <td>2.654060</td>\n",
       "      <td>2.514159</td>\n",
       "      <td>8.188197</td>\n",
       "      <td>0.192549</td>\n",
       "      <td>5.180525e-11</td>\n",
       "      <td>0.996138</td>\n",
       "    </tr>\n",
       "    <tr>\n",
       "      <th>4</th>\n",
       "      <td>bcu-bll-fsrq-agn</td>\n",
       "      <td>2.821817e-10</td>\n",
       "      <td>1.775176</td>\n",
       "      <td>1.693865</td>\n",
       "      <td>1.517829</td>\n",
       "      <td>0.064962</td>\n",
       "      <td>2.050626e-14</td>\n",
       "      <td>0.490977</td>\n",
       "    </tr>\n",
       "    <tr>\n",
       "      <th>...</th>\n",
       "      <td>...</td>\n",
       "      <td>...</td>\n",
       "      <td>...</td>\n",
       "      <td>...</td>\n",
       "      <td>...</td>\n",
       "      <td>...</td>\n",
       "      <td>...</td>\n",
       "      <td>...</td>\n",
       "    </tr>\n",
       "    <tr>\n",
       "      <th>5376</th>\n",
       "      <td>bcu-bll-fsrq-agn</td>\n",
       "      <td>3.462985e-10</td>\n",
       "      <td>1.984188</td>\n",
       "      <td>1.982751</td>\n",
       "      <td>0.000000</td>\n",
       "      <td>0.026185</td>\n",
       "      <td>5.348124e-14</td>\n",
       "      <td>0.177217</td>\n",
       "    </tr>\n",
       "    <tr>\n",
       "      <th>5377</th>\n",
       "      <td>Soft</td>\n",
       "      <td>1.796826e-10</td>\n",
       "      <td>2.595140</td>\n",
       "      <td>2.324850</td>\n",
       "      <td>2.408406</td>\n",
       "      <td>0.490786</td>\n",
       "      <td>1.091525e-12</td>\n",
       "      <td>0.369278</td>\n",
       "    </tr>\n",
       "    <tr>\n",
       "      <th>5378</th>\n",
       "      <td>Soft</td>\n",
       "      <td>8.286240e-11</td>\n",
       "      <td>2.684101</td>\n",
       "      <td>2.596392</td>\n",
       "      <td>2.850321</td>\n",
       "      <td>1.196060</td>\n",
       "      <td>3.012063e-13</td>\n",
       "      <td>0.000000</td>\n",
       "    </tr>\n",
       "    <tr>\n",
       "      <th>5379</th>\n",
       "      <td>bcu-bll-fsrq-agn</td>\n",
       "      <td>1.915395e-10</td>\n",
       "      <td>2.120210</td>\n",
       "      <td>2.007299</td>\n",
       "      <td>1.697972</td>\n",
       "      <td>0.104679</td>\n",
       "      <td>7.524951e-14</td>\n",
       "      <td>0.000000</td>\n",
       "    </tr>\n",
       "    <tr>\n",
       "      <th>5380</th>\n",
       "      <td>bcu-bll-fsrq-agn</td>\n",
       "      <td>2.083780e-10</td>\n",
       "      <td>1.883783</td>\n",
       "      <td>1.629147</td>\n",
       "      <td>2.043163</td>\n",
       "      <td>0.212592</td>\n",
       "      <td>2.439895e-14</td>\n",
       "      <td>0.416743</td>\n",
       "    </tr>\n",
       "  </tbody>\n",
       "</table>\n",
       "<p>5381 rows × 8 columns</p>\n",
       "</div>"
      ],
      "text/plain": [
       "            class_4FGL      Flux1000  PL_Index  LP_Index  LP_SigCurv  \\\n",
       "0     bcu-bll-fsrq-agn  1.259796e-10  2.271696  2.254081    0.083893   \n",
       "1                 Soft  7.471219e-10  2.116692  2.078927    1.697737   \n",
       "2     bcu-bll-fsrq-agn  1.082246e-10  1.939160  1.661223    0.425023   \n",
       "3                 Soft  1.347354e-09  2.654060  2.514159    8.188197   \n",
       "4     bcu-bll-fsrq-agn  2.821817e-10  1.775176  1.693865    1.517829   \n",
       "...                ...           ...       ...       ...         ...   \n",
       "5376  bcu-bll-fsrq-agn  3.462985e-10  1.984188  1.982751    0.000000   \n",
       "5377              Soft  1.796826e-10  2.595140  2.324850    2.408406   \n",
       "5378              Soft  8.286240e-11  2.684101  2.596392    2.850321   \n",
       "5379  bcu-bll-fsrq-agn  1.915395e-10  2.120210  2.007299    1.697972   \n",
       "5380  bcu-bll-fsrq-agn  2.083780e-10  1.883783  1.629147    2.043163   \n",
       "\n",
       "      PLEC_ExpfactorS  PLEC_Flux_Density  Frac_Variability  \n",
       "0            0.029462       2.228697e-14          0.675882  \n",
       "1            0.063212       2.813444e-13          0.406565  \n",
       "2            0.179718       6.563064e-15          0.000000  \n",
       "3            0.192549       5.180525e-11          0.996138  \n",
       "4            0.064962       2.050626e-14          0.490977  \n",
       "...               ...                ...               ...  \n",
       "5376         0.026185       5.348124e-14          0.177217  \n",
       "5377         0.490786       1.091525e-12          0.369278  \n",
       "5378         1.196060       3.012063e-13          0.000000  \n",
       "5379         0.104679       7.524951e-14          0.000000  \n",
       "5380         0.212592       2.439895e-14          0.416743  \n",
       "\n",
       "[5381 rows x 8 columns]"
      ]
     },
     "execution_count": 7,
     "metadata": {},
     "output_type": "execute_result"
    }
   ],
   "source": [
    "df"
   ]
  },
  {
   "cell_type": "code",
   "execution_count": null,
   "metadata": {},
   "outputs": [],
   "source": [
    "sns.pairplot(df, hue=\"class_4FGL\",diag_kind='hist')"
   ]
  },
  {
   "cell_type": "code",
   "execution_count": null,
   "metadata": {},
   "outputs": [],
   "source": []
  },
  {
   "cell_type": "code",
   "execution_count": null,
   "metadata": {},
   "outputs": [],
   "source": []
  }
 ],
 "metadata": {
  "kernelspec": {
   "display_name": "Python 3",
   "language": "python",
   "name": "python3"
  },
  "language_info": {
   "codemirror_mode": {
    "name": "ipython",
    "version": 3
   },
   "file_extension": ".py",
   "mimetype": "text/x-python",
   "name": "python",
   "nbconvert_exporter": "python",
   "pygments_lexer": "ipython3",
   "version": "3.8.3"
  }
 },
 "nbformat": 4,
 "nbformat_minor": 4
}
