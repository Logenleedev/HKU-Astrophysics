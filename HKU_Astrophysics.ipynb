{
  "nbformat": 4,
  "nbformat_minor": 0,
  "metadata": {
    "colab": {
      "name": "HKU_Astrophysics.ipynb",
      "provenance": [],
      "collapsed_sections": [],
      "authorship_tag": "ABX9TyNTYSQYx/pNJUN3EGH2k//k",
      "include_colab_link": true
    },
    "kernelspec": {
      "name": "python3",
      "display_name": "Python 3"
    },
    "language_info": {
      "name": "python"
    }
  },
  "cells": [
    {
      "cell_type": "markdown",
      "metadata": {
        "id": "view-in-github",
        "colab_type": "text"
      },
      "source": [
        "<a href=\"https://colab.research.google.com/github/Logenleedev/HKU-Astrophysics/blob/main/HKU_Astrophysics.ipynb\" target=\"_parent\"><img src=\"https://colab.research.google.com/assets/colab-badge.svg\" alt=\"Open In Colab\"/></a>"
      ]
    },
    {
      "cell_type": "code",
      "metadata": {
        "colab": {
          "base_uri": "https://localhost:8080/",
          "height": 224
        },
        "id": "geMdZGGH7sFd",
        "outputId": "69a2cb0c-b2c2-49b1-97c2-d69fde5ce8c9"
      },
      "source": [
        "!pip install seaborn\n",
        "sns.__version__"
      ],
      "execution_count": null,
      "outputs": [
        {
          "output_type": "stream",
          "text": [
            "Requirement already satisfied: seaborn in /usr/local/lib/python3.7/dist-packages (0.11.1)\n",
            "Requirement already satisfied: numpy>=1.15 in /usr/local/lib/python3.7/dist-packages (from seaborn) (1.19.5)\n",
            "Requirement already satisfied: scipy>=1.0 in /usr/local/lib/python3.7/dist-packages (from seaborn) (1.4.1)\n",
            "Requirement already satisfied: pandas>=0.23 in /usr/local/lib/python3.7/dist-packages (from seaborn) (1.1.5)\n",
            "Requirement already satisfied: matplotlib>=2.2 in /usr/local/lib/python3.7/dist-packages (from seaborn) (3.2.2)\n",
            "Requirement already satisfied: kiwisolver>=1.0.1 in /usr/local/lib/python3.7/dist-packages (from matplotlib>=2.2->seaborn) (1.3.1)\n",
            "Requirement already satisfied: pyparsing!=2.0.4,!=2.1.2,!=2.1.6,>=2.0.1 in /usr/local/lib/python3.7/dist-packages (from matplotlib>=2.2->seaborn) (2.4.7)\n",
            "Requirement already satisfied: python-dateutil>=2.1 in /usr/local/lib/python3.7/dist-packages (from matplotlib>=2.2->seaborn) (2.8.1)\n",
            "Requirement already satisfied: cycler>=0.10 in /usr/local/lib/python3.7/dist-packages (from matplotlib>=2.2->seaborn) (0.10.0)\n",
            "Requirement already satisfied: six in /usr/local/lib/python3.7/dist-packages (from cycler>=0.10->matplotlib>=2.2->seaborn) (1.15.0)\n",
            "Requirement already satisfied: pytz>=2017.2 in /usr/local/lib/python3.7/dist-packages (from pandas>=0.23->seaborn) (2018.9)\n"
          ],
          "name": "stdout"
        },
        {
          "output_type": "execute_result",
          "data": {
            "application/vnd.google.colaboratory.intrinsic+json": {
              "type": "string"
            },
            "text/plain": [
              "'0.11.1'"
            ]
          },
          "metadata": {
            "tags": []
          },
          "execution_count": 44
        }
      ]
    },
    {
      "cell_type": "code",
      "metadata": {
        "colab": {
          "base_uri": "https://localhost:8080/"
        },
        "id": "7StZ91eoiHUn",
        "outputId": "98aaff45-679b-46f6-f9a5-290fe3013b40"
      },
      "source": [
        "from google.colab import drive\n",
        "drive.mount('/content/drive')"
      ],
      "execution_count": null,
      "outputs": [
        {
          "output_type": "stream",
          "text": [
            "Drive already mounted at /content/drive; to attempt to forcibly remount, call drive.mount(\"/content/drive\", force_remount=True).\n"
          ],
          "name": "stdout"
        }
      ]
    },
    {
      "cell_type": "code",
      "metadata": {
        "id": "_1NrXdwsicDZ"
      },
      "source": [
        "import pandas as pd\n",
        "import sklearn\n",
        "import numpy as np\n",
        "import seaborn as sns"
      ],
      "execution_count": null,
      "outputs": []
    },
    {
      "cell_type": "code",
      "metadata": {
        "id": "H7BV0adfi2gG"
      },
      "source": [
        "df = pd.read_csv ('/content/drive/MyDrive/Research/Astrophysics/updated_4FGL.csv')"
      ],
      "execution_count": null,
      "outputs": []
    },
    {
      "cell_type": "code",
      "metadata": {
        "colab": {
          "base_uri": "https://localhost:8080/"
        },
        "id": "s94_y4dNi9Zf",
        "outputId": "b0a921ca-6bcd-441a-9e83-98eee4182854"
      },
      "source": [
        "print(df)"
      ],
      "execution_count": null,
      "outputs": [
        {
          "output_type": "stream",
          "text": [
            "            Source_Name  DataRelease  ...  Unc_Counterpart  Flags\n",
            "0     4FGL J0000.3-7355            1  ...              NaN      0\n",
            "1     4FGL J0000.5+0743            2  ...              NaN      0\n",
            "2     4FGL J0000.7+2530            3  ...              NaN      0\n",
            "3     4FGL J0001.2+4741            1  ...     8.400000e-07      0\n",
            "4     4FGL J0001.2-0747            1  ...     1.800000e-07      0\n",
            "...                 ...          ...  ...              ...    ...\n",
            "6654  4FGL J2359.3-2049            1  ...     1.000000e-06      0\n",
            "6655  4FGL J2359.3+1444            1  ...              NaN      2\n",
            "6656  4FGL J2359.7-5041            3  ...     4.500000e-03      0\n",
            "6657  4FGL J2359.9-3736            1  ...     3.278325e-07      0\n",
            "6658  4FGL J2359.9+3145            3  ...     4.500000e-03      0\n",
            "\n",
            "[6659 rows x 79 columns]\n"
          ],
          "name": "stdout"
        }
      ]
    },
    {
      "cell_type": "code",
      "metadata": {
        "colab": {
          "base_uri": "https://localhost:8080/"
        },
        "id": "s20Tld0a28bF",
        "outputId": "01fcb9d9-37e3-444f-9474-4786a70f4f35"
      },
      "source": [
        "sorted(df)"
      ],
      "execution_count": null,
      "outputs": [
        {
          "output_type": "execute_result",
          "data": {
            "text/plain": [
              "['ASSOC1',\n",
              " 'ASSOC2',\n",
              " 'ASSOC_4FGL',\n",
              " 'ASSOC_FGL',\n",
              " 'ASSOC_FHL',\n",
              " 'ASSOC_GAM1',\n",
              " 'ASSOC_GAM2',\n",
              " 'ASSOC_GAM3',\n",
              " 'ASSOC_PROB_BAY',\n",
              " 'ASSOC_PROB_LR',\n",
              " 'ASSOC_TEV',\n",
              " 'CLASS1',\n",
              " 'CLASS2',\n",
              " 'Conf_68_PosAng',\n",
              " 'Conf_68_SemiMajor',\n",
              " 'Conf_68_SemiMinor',\n",
              " 'Conf_95_PosAng',\n",
              " 'Conf_95_SemiMajor',\n",
              " 'Conf_95_SemiMinor',\n",
              " 'DEC_Counterpart',\n",
              " 'DEJ2000',\n",
              " 'DataRelease',\n",
              " 'Energy_Flux100',\n",
              " 'Extended_Source_Name',\n",
              " 'Flags',\n",
              " 'Flux1000',\n",
              " 'Flux_Band',\n",
              " 'Flux_History',\n",
              " 'Flux_Peak',\n",
              " 'Frac_Variability',\n",
              " 'GLAT',\n",
              " 'GLON',\n",
              " 'LP_EPeak',\n",
              " 'LP_Flux_Density',\n",
              " 'LP_Index',\n",
              " 'LP_SigCurv',\n",
              " 'LP_beta',\n",
              " 'Npred',\n",
              " 'PLEC_EPeak',\n",
              " 'PLEC_Exp_Index',\n",
              " 'PLEC_ExpfactorS',\n",
              " 'PLEC_Flux_Density',\n",
              " 'PLEC_IndexS',\n",
              " 'PLEC_SigCurv',\n",
              " 'PL_Flux_Density',\n",
              " 'PL_Index',\n",
              " 'Peak_Interval',\n",
              " 'Pivot_Energy',\n",
              " 'RAJ2000',\n",
              " 'RA_Counterpart',\n",
              " 'ROI_num',\n",
              " 'Signif_Avg',\n",
              " 'Signif_Peak',\n",
              " 'Source_Name',\n",
              " 'SpectrumType',\n",
              " 'Sqrt_TS_Band',\n",
              " 'Sqrt_TS_History',\n",
              " 'TEVCAT_FLAG',\n",
              " 'Time_Peak',\n",
              " 'Unc_Counterpart',\n",
              " 'Unc_Energy_Flux100',\n",
              " 'Unc_Flux1000',\n",
              " 'Unc_Flux_Band',\n",
              " 'Unc_Flux_History',\n",
              " 'Unc_Flux_Peak',\n",
              " 'Unc_Frac_Variability',\n",
              " 'Unc_LP_EPeak',\n",
              " 'Unc_LP_Flux_Density',\n",
              " 'Unc_LP_Index',\n",
              " 'Unc_LP_beta',\n",
              " 'Unc_PLEC_EPeak',\n",
              " 'Unc_PLEC_Exp_Index',\n",
              " 'Unc_PLEC_ExpfactorS',\n",
              " 'Unc_PLEC_Flux_Density',\n",
              " 'Unc_PLEC_IndexS',\n",
              " 'Unc_PL_Flux_Density',\n",
              " 'Unc_PL_Index',\n",
              " 'Variability_Index',\n",
              " 'nuFnu_Band']"
            ]
          },
          "metadata": {},
          "execution_count": 5
        }
      ]
    },
    {
      "cell_type": "code",
      "metadata": {
        "id": "wl2L8WizlMtf"
      },
      "source": [
        "df.loc[(df[\"LP_EPeak\"] < 1000), \"CLASS1\"] = \"Soft\""
      ],
      "execution_count": null,
      "outputs": []
    },
    {
      "cell_type": "code",
      "metadata": {
        "colab": {
          "base_uri": "https://localhost:8080/",
          "height": 609
        },
        "id": "MloZGqS73B6k",
        "outputId": "5aedd57a-423e-45a3-8809-cdbd5cf62dcd"
      },
      "source": [
        "numerics = ['int16', 'int32', 'int64', 'float16', 'float32', 'float64']\n",
        "newdf = df.select_dtypes(include=numerics)\n",
        "\n",
        "\n",
        "newdf.insert(0,\"class_4FGL\", df[\"CLASS1\"])\n",
        "newdf"
      ],
      "execution_count": null,
      "outputs": [
        {
          "output_type": "execute_result",
          "data": {
            "text/html": [
              "<div>\n",
              "<style scoped>\n",
              "    .dataframe tbody tr th:only-of-type {\n",
              "        vertical-align: middle;\n",
              "    }\n",
              "\n",
              "    .dataframe tbody tr th {\n",
              "        vertical-align: top;\n",
              "    }\n",
              "\n",
              "    .dataframe thead th {\n",
              "        text-align: right;\n",
              "    }\n",
              "</style>\n",
              "<table border=\"1\" class=\"dataframe\">\n",
              "  <thead>\n",
              "    <tr style=\"text-align: right;\">\n",
              "      <th></th>\n",
              "      <th>class_4FGL</th>\n",
              "      <th>DataRelease</th>\n",
              "      <th>RAJ2000</th>\n",
              "      <th>DEJ2000</th>\n",
              "      <th>GLON</th>\n",
              "      <th>GLAT</th>\n",
              "      <th>Conf_68_SemiMajor</th>\n",
              "      <th>Conf_68_SemiMinor</th>\n",
              "      <th>Conf_68_PosAng</th>\n",
              "      <th>Conf_95_SemiMajor</th>\n",
              "      <th>Conf_95_SemiMinor</th>\n",
              "      <th>Conf_95_PosAng</th>\n",
              "      <th>ROI_num</th>\n",
              "      <th>Signif_Avg</th>\n",
              "      <th>Pivot_Energy</th>\n",
              "      <th>Flux1000</th>\n",
              "      <th>Unc_Flux1000</th>\n",
              "      <th>Energy_Flux100</th>\n",
              "      <th>Unc_Energy_Flux100</th>\n",
              "      <th>PL_Flux_Density</th>\n",
              "      <th>Unc_PL_Flux_Density</th>\n",
              "      <th>PL_Index</th>\n",
              "      <th>Unc_PL_Index</th>\n",
              "      <th>LP_Flux_Density</th>\n",
              "      <th>Unc_LP_Flux_Density</th>\n",
              "      <th>LP_Index</th>\n",
              "      <th>Unc_LP_Index</th>\n",
              "      <th>LP_beta</th>\n",
              "      <th>Unc_LP_beta</th>\n",
              "      <th>LP_SigCurv</th>\n",
              "      <th>LP_EPeak</th>\n",
              "      <th>Unc_LP_EPeak</th>\n",
              "      <th>PLEC_Flux_Density</th>\n",
              "      <th>Unc_PLEC_Flux_Density</th>\n",
              "      <th>PLEC_IndexS</th>\n",
              "      <th>Unc_PLEC_IndexS</th>\n",
              "      <th>PLEC_ExpfactorS</th>\n",
              "      <th>Unc_PLEC_ExpfactorS</th>\n",
              "      <th>PLEC_Exp_Index</th>\n",
              "      <th>Unc_PLEC_Exp_Index</th>\n",
              "      <th>PLEC_SigCurv</th>\n",
              "      <th>PLEC_EPeak</th>\n",
              "      <th>Unc_PLEC_EPeak</th>\n",
              "      <th>Npred</th>\n",
              "      <th>Variability_Index</th>\n",
              "      <th>Frac_Variability</th>\n",
              "      <th>Unc_Frac_Variability</th>\n",
              "      <th>Signif_Peak</th>\n",
              "      <th>Flux_Peak</th>\n",
              "      <th>Unc_Flux_Peak</th>\n",
              "      <th>Time_Peak</th>\n",
              "      <th>Peak_Interval</th>\n",
              "      <th>ASSOC_PROB_BAY</th>\n",
              "      <th>ASSOC_PROB_LR</th>\n",
              "      <th>RA_Counterpart</th>\n",
              "      <th>DEC_Counterpart</th>\n",
              "      <th>Unc_Counterpart</th>\n",
              "      <th>Flags</th>\n",
              "    </tr>\n",
              "  </thead>\n",
              "  <tbody>\n",
              "    <tr>\n",
              "      <th>0</th>\n",
              "      <td>NaN</td>\n",
              "      <td>1</td>\n",
              "      <td>0.0983</td>\n",
              "      <td>-73.9220</td>\n",
              "      <td>307.708980</td>\n",
              "      <td>-42.729538</td>\n",
              "      <td>0.032378</td>\n",
              "      <td>0.031453</td>\n",
              "      <td>-62.70</td>\n",
              "      <td>0.0525</td>\n",
              "      <td>0.0510</td>\n",
              "      <td>-62.70</td>\n",
              "      <td>1532</td>\n",
              "      <td>7.459561</td>\n",
              "      <td>2329.5903</td>\n",
              "      <td>1.392216e-10</td>\n",
              "      <td>2.362096e-11</td>\n",
              "      <td>1.581100e-12</td>\n",
              "      <td>2.811228e-13</td>\n",
              "      <td>2.610434e-14</td>\n",
              "      <td>4.429607e-15</td>\n",
              "      <td>2.179690</td>\n",
              "      <td>0.135742</td>\n",
              "      <td>2.904301e-14</td>\n",
              "      <td>6.179337e-15</td>\n",
              "      <td>2.063685</td>\n",
              "      <td>0.242461</td>\n",
              "      <td>0.091939</td>\n",
              "      <td>0.138896</td>\n",
              "      <td>0.749253</td>\n",
              "      <td>1647.64270</td>\n",
              "      <td>2.851526e+03</td>\n",
              "      <td>2.918480e-14</td>\n",
              "      <td>5.628575e-15</td>\n",
              "      <td>1.993013</td>\n",
              "      <td>0.237311</td>\n",
              "      <td>0.150609</td>\n",
              "      <td>0.157339</td>\n",
              "      <td>0.666667</td>\n",
              "      <td>NaN</td>\n",
              "      <td>1.292339</td>\n",
              "      <td>2438.50100</td>\n",
              "      <td>3654.85300</td>\n",
              "      <td>305.21463</td>\n",
              "      <td>14.602470</td>\n",
              "      <td>0.215777</td>\n",
              "      <td>0.413314</td>\n",
              "      <td>-inf</td>\n",
              "      <td>-inf</td>\n",
              "      <td>-inf</td>\n",
              "      <td>-inf</td>\n",
              "      <td>-inf</td>\n",
              "      <td>0.000000</td>\n",
              "      <td>0.000000</td>\n",
              "      <td>NaN</td>\n",
              "      <td>NaN</td>\n",
              "      <td>NaN</td>\n",
              "      <td>0</td>\n",
              "    </tr>\n",
              "    <tr>\n",
              "      <th>1</th>\n",
              "      <td>NaN</td>\n",
              "      <td>2</td>\n",
              "      <td>0.1375</td>\n",
              "      <td>7.7273</td>\n",
              "      <td>101.656480</td>\n",
              "      <td>-53.029457</td>\n",
              "      <td>0.094544</td>\n",
              "      <td>0.069999</td>\n",
              "      <td>-10.22</td>\n",
              "      <td>0.1533</td>\n",
              "      <td>0.1135</td>\n",
              "      <td>-10.22</td>\n",
              "      <td>307</td>\n",
              "      <td>5.271726</td>\n",
              "      <td>1304.1947</td>\n",
              "      <td>1.951913e-10</td>\n",
              "      <td>4.085454e-11</td>\n",
              "      <td>1.121896e-12</td>\n",
              "      <td>3.292749e-13</td>\n",
              "      <td>1.039931e-13</td>\n",
              "      <td>2.185767e-14</td>\n",
              "      <td>2.349694</td>\n",
              "      <td>0.140494</td>\n",
              "      <td>1.575568e-13</td>\n",
              "      <td>3.636783e-14</td>\n",
              "      <td>2.069591</td>\n",
              "      <td>0.371520</td>\n",
              "      <td>0.454411</td>\n",
              "      <td>0.289610</td>\n",
              "      <td>2.549887</td>\n",
              "      <td>1208.05740</td>\n",
              "      <td>4.912381e+02</td>\n",
              "      <td>1.475405e-13</td>\n",
              "      <td>3.376789e-14</td>\n",
              "      <td>1.998095</td>\n",
              "      <td>0.310854</td>\n",
              "      <td>0.586220</td>\n",
              "      <td>0.402050</td>\n",
              "      <td>0.666667</td>\n",
              "      <td>NaN</td>\n",
              "      <td>2.532814</td>\n",
              "      <td>1308.43460</td>\n",
              "      <td>691.02340</td>\n",
              "      <td>197.24410</td>\n",
              "      <td>25.399525</td>\n",
              "      <td>0.687574</td>\n",
              "      <td>0.284856</td>\n",
              "      <td>5.156346</td>\n",
              "      <td>3.136125e-09</td>\n",
              "      <td>7.956976e-10</td>\n",
              "      <td>507590016.0</td>\n",
              "      <td>31560000.0</td>\n",
              "      <td>0.000000</td>\n",
              "      <td>0.000000</td>\n",
              "      <td>NaN</td>\n",
              "      <td>NaN</td>\n",
              "      <td>NaN</td>\n",
              "      <td>0</td>\n",
              "    </tr>\n",
              "    <tr>\n",
              "      <th>2</th>\n",
              "      <td>NaN</td>\n",
              "      <td>3</td>\n",
              "      <td>0.1878</td>\n",
              "      <td>25.5153</td>\n",
              "      <td>108.775070</td>\n",
              "      <td>-35.959175</td>\n",
              "      <td>0.051373</td>\n",
              "      <td>0.041012</td>\n",
              "      <td>82.40</td>\n",
              "      <td>0.0833</td>\n",
              "      <td>0.0665</td>\n",
              "      <td>82.40</td>\n",
              "      <td>623</td>\n",
              "      <td>4.177483</td>\n",
              "      <td>6318.9400</td>\n",
              "      <td>7.202151e-11</td>\n",
              "      <td>2.553710e-11</td>\n",
              "      <td>8.571274e-13</td>\n",
              "      <td>2.713094e-13</td>\n",
              "      <td>2.058057e-15</td>\n",
              "      <td>6.494554e-16</td>\n",
              "      <td>1.852803</td>\n",
              "      <td>0.211903</td>\n",
              "      <td>3.043761e-15</td>\n",
              "      <td>1.165287e-15</td>\n",
              "      <td>1.646164</td>\n",
              "      <td>0.447546</td>\n",
              "      <td>0.376358</td>\n",
              "      <td>0.370307</td>\n",
              "      <td>1.471139</td>\n",
              "      <td>10111.06800</td>\n",
              "      <td>6.127807e+03</td>\n",
              "      <td>3.079466e-15</td>\n",
              "      <td>1.173057e-15</td>\n",
              "      <td>1.507830</td>\n",
              "      <td>0.514213</td>\n",
              "      <td>0.720244</td>\n",
              "      <td>0.682527</td>\n",
              "      <td>0.666667</td>\n",
              "      <td>NaN</td>\n",
              "      <td>1.562938</td>\n",
              "      <td>11096.56900</td>\n",
              "      <td>5117.60640</td>\n",
              "      <td>87.70652</td>\n",
              "      <td>13.650518</td>\n",
              "      <td>0.000000</td>\n",
              "      <td>10.000000</td>\n",
              "      <td>-inf</td>\n",
              "      <td>-inf</td>\n",
              "      <td>-inf</td>\n",
              "      <td>-inf</td>\n",
              "      <td>-inf</td>\n",
              "      <td>0.000000</td>\n",
              "      <td>0.000000</td>\n",
              "      <td>NaN</td>\n",
              "      <td>NaN</td>\n",
              "      <td>NaN</td>\n",
              "      <td>0</td>\n",
              "    </tr>\n",
              "    <tr>\n",
              "      <th>3</th>\n",
              "      <td>bcu</td>\n",
              "      <td>1</td>\n",
              "      <td>0.3126</td>\n",
              "      <td>47.6859</td>\n",
              "      <td>114.250200</td>\n",
              "      <td>-14.338059</td>\n",
              "      <td>0.036880</td>\n",
              "      <td>0.033180</td>\n",
              "      <td>-45.90</td>\n",
              "      <td>0.0598</td>\n",
              "      <td>0.0538</td>\n",
              "      <td>-45.90</td>\n",
              "      <td>860</td>\n",
              "      <td>4.692600</td>\n",
              "      <td>2420.5752</td>\n",
              "      <td>1.259796e-10</td>\n",
              "      <td>2.877197e-11</td>\n",
              "      <td>1.499454e-12</td>\n",
              "      <td>3.968492e-13</td>\n",
              "      <td>2.156031e-14</td>\n",
              "      <td>4.906863e-15</td>\n",
              "      <td>2.271696</td>\n",
              "      <td>0.179057</td>\n",
              "      <td>2.196550e-14</td>\n",
              "      <td>6.115012e-15</td>\n",
              "      <td>2.254081</td>\n",
              "      <td>0.226351</td>\n",
              "      <td>0.012156</td>\n",
              "      <td>0.108880</td>\n",
              "      <td>0.083893</td>\n",
              "      <td>NaN</td>\n",
              "      <td>NaN</td>\n",
              "      <td>2.228697e-14</td>\n",
              "      <td>5.419623e-15</td>\n",
              "      <td>2.219642</td>\n",
              "      <td>0.229325</td>\n",
              "      <td>0.029462</td>\n",
              "      <td>0.091426</td>\n",
              "      <td>0.666667</td>\n",
              "      <td>NaN</td>\n",
              "      <td>0.337723</td>\n",
              "      <td>NaN</td>\n",
              "      <td>NaN</td>\n",
              "      <td>293.14978</td>\n",
              "      <td>25.313953</td>\n",
              "      <td>0.675882</td>\n",
              "      <td>0.312850</td>\n",
              "      <td>5.201714</td>\n",
              "      <td>8.072130e-09</td>\n",
              "      <td>2.148715e-09</td>\n",
              "      <td>286670016.0</td>\n",
              "      <td>31560000.0</td>\n",
              "      <td>0.996097</td>\n",
              "      <td>0.938563</td>\n",
              "      <td>0.329341</td>\n",
              "      <td>47.700201</td>\n",
              "      <td>8.400000e-07</td>\n",
              "      <td>0</td>\n",
              "    </tr>\n",
              "    <tr>\n",
              "      <th>4</th>\n",
              "      <td>Soft</td>\n",
              "      <td>1</td>\n",
              "      <td>0.3151</td>\n",
              "      <td>-7.7971</td>\n",
              "      <td>89.032720</td>\n",
              "      <td>-67.305010</td>\n",
              "      <td>0.018440</td>\n",
              "      <td>0.017577</td>\n",
              "      <td>64.10</td>\n",
              "      <td>0.0299</td>\n",
              "      <td>0.0285</td>\n",
              "      <td>64.10</td>\n",
              "      <td>933</td>\n",
              "      <td>23.782486</td>\n",
              "      <td>1721.6039</td>\n",
              "      <td>7.471219e-10</td>\n",
              "      <td>5.041939e-11</td>\n",
              "      <td>8.339171e-12</td>\n",
              "      <td>5.499454e-13</td>\n",
              "      <td>2.656894e-13</td>\n",
              "      <td>1.741041e-14</td>\n",
              "      <td>2.116692</td>\n",
              "      <td>0.049792</td>\n",
              "      <td>2.842831e-13</td>\n",
              "      <td>2.173665e-14</td>\n",
              "      <td>2.078927</td>\n",
              "      <td>0.065974</td>\n",
              "      <td>0.051182</td>\n",
              "      <td>0.033735</td>\n",
              "      <td>1.697737</td>\n",
              "      <td>796.29785</td>\n",
              "      <td>7.667974e+02</td>\n",
              "      <td>2.813444e-13</td>\n",
              "      <td>2.077029e-14</td>\n",
              "      <td>2.046604</td>\n",
              "      <td>0.070298</td>\n",
              "      <td>0.063212</td>\n",
              "      <td>0.042852</td>\n",
              "      <td>0.666667</td>\n",
              "      <td>NaN</td>\n",
              "      <td>1.892928</td>\n",
              "      <td>624.23950</td>\n",
              "      <td>1758.48960</td>\n",
              "      <td>1192.35190</td>\n",
              "      <td>46.780693</td>\n",
              "      <td>0.406565</td>\n",
              "      <td>0.111870</td>\n",
              "      <td>10.646099</td>\n",
              "      <td>1.772592e-08</td>\n",
              "      <td>2.242407e-09</td>\n",
              "      <td>349790016.0</td>\n",
              "      <td>31560000.0</td>\n",
              "      <td>0.997014</td>\n",
              "      <td>0.932932</td>\n",
              "      <td>0.325104</td>\n",
              "      <td>-7.774145</td>\n",
              "      <td>1.800000e-07</td>\n",
              "      <td>0</td>\n",
              "    </tr>\n",
              "    <tr>\n",
              "      <th>...</th>\n",
              "      <td>...</td>\n",
              "      <td>...</td>\n",
              "      <td>...</td>\n",
              "      <td>...</td>\n",
              "      <td>...</td>\n",
              "      <td>...</td>\n",
              "      <td>...</td>\n",
              "      <td>...</td>\n",
              "      <td>...</td>\n",
              "      <td>...</td>\n",
              "      <td>...</td>\n",
              "      <td>...</td>\n",
              "      <td>...</td>\n",
              "      <td>...</td>\n",
              "      <td>...</td>\n",
              "      <td>...</td>\n",
              "      <td>...</td>\n",
              "      <td>...</td>\n",
              "      <td>...</td>\n",
              "      <td>...</td>\n",
              "      <td>...</td>\n",
              "      <td>...</td>\n",
              "      <td>...</td>\n",
              "      <td>...</td>\n",
              "      <td>...</td>\n",
              "      <td>...</td>\n",
              "      <td>...</td>\n",
              "      <td>...</td>\n",
              "      <td>...</td>\n",
              "      <td>...</td>\n",
              "      <td>...</td>\n",
              "      <td>...</td>\n",
              "      <td>...</td>\n",
              "      <td>...</td>\n",
              "      <td>...</td>\n",
              "      <td>...</td>\n",
              "      <td>...</td>\n",
              "      <td>...</td>\n",
              "      <td>...</td>\n",
              "      <td>...</td>\n",
              "      <td>...</td>\n",
              "      <td>...</td>\n",
              "      <td>...</td>\n",
              "      <td>...</td>\n",
              "      <td>...</td>\n",
              "      <td>...</td>\n",
              "      <td>...</td>\n",
              "      <td>...</td>\n",
              "      <td>...</td>\n",
              "      <td>...</td>\n",
              "      <td>...</td>\n",
              "      <td>...</td>\n",
              "      <td>...</td>\n",
              "      <td>...</td>\n",
              "      <td>...</td>\n",
              "      <td>...</td>\n",
              "      <td>...</td>\n",
              "      <td>...</td>\n",
              "    </tr>\n",
              "    <tr>\n",
              "      <th>6654</th>\n",
              "      <td>bll</td>\n",
              "      <td>1</td>\n",
              "      <td>359.8357</td>\n",
              "      <td>-20.8189</td>\n",
              "      <td>58.090145</td>\n",
              "      <td>-76.542860</td>\n",
              "      <td>0.024607</td>\n",
              "      <td>0.021462</td>\n",
              "      <td>-73.90</td>\n",
              "      <td>0.0399</td>\n",
              "      <td>0.0348</td>\n",
              "      <td>-73.90</td>\n",
              "      <td>1485</td>\n",
              "      <td>15.950886</td>\n",
              "      <td>2594.2498</td>\n",
              "      <td>3.462985e-10</td>\n",
              "      <td>3.494565e-11</td>\n",
              "      <td>3.883922e-12</td>\n",
              "      <td>3.999699e-13</td>\n",
              "      <td>5.196033e-14</td>\n",
              "      <td>5.244068e-15</td>\n",
              "      <td>1.984188</td>\n",
              "      <td>0.078500</td>\n",
              "      <td>5.197384e-14</td>\n",
              "      <td>6.182733e-15</td>\n",
              "      <td>1.982751</td>\n",
              "      <td>0.090347</td>\n",
              "      <td>0.001760</td>\n",
              "      <td>0.038331</td>\n",
              "      <td>0.000000</td>\n",
              "      <td>348031.94000</td>\n",
              "      <td>3.374152e+07</td>\n",
              "      <td>5.348124e-14</td>\n",
              "      <td>5.777153e-15</td>\n",
              "      <td>1.934859</td>\n",
              "      <td>0.103371</td>\n",
              "      <td>0.026185</td>\n",
              "      <td>0.035541</td>\n",
              "      <td>0.666667</td>\n",
              "      <td>NaN</td>\n",
              "      <td>0.855085</td>\n",
              "      <td>11245.25300</td>\n",
              "      <td>14987.11300</td>\n",
              "      <td>489.51053</td>\n",
              "      <td>14.043210</td>\n",
              "      <td>0.177217</td>\n",
              "      <td>0.190973</td>\n",
              "      <td>-inf</td>\n",
              "      <td>-inf</td>\n",
              "      <td>-inf</td>\n",
              "      <td>-inf</td>\n",
              "      <td>-inf</td>\n",
              "      <td>0.994474</td>\n",
              "      <td>0.971529</td>\n",
              "      <td>359.831391</td>\n",
              "      <td>-20.798897</td>\n",
              "      <td>1.000000e-06</td>\n",
              "      <td>0</td>\n",
              "    </tr>\n",
              "    <tr>\n",
              "      <th>6655</th>\n",
              "      <td>Soft</td>\n",
              "      <td>1</td>\n",
              "      <td>359.8390</td>\n",
              "      <td>14.7498</td>\n",
              "      <td>104.564710</td>\n",
              "      <td>-46.256252</td>\n",
              "      <td>0.136728</td>\n",
              "      <td>0.088377</td>\n",
              "      <td>-65.40</td>\n",
              "      <td>0.2217</td>\n",
              "      <td>0.1433</td>\n",
              "      <td>-65.40</td>\n",
              "      <td>906</td>\n",
              "      <td>7.114844</td>\n",
              "      <td>622.3903</td>\n",
              "      <td>1.796826e-10</td>\n",
              "      <td>3.554968e-11</td>\n",
              "      <td>2.017364e-12</td>\n",
              "      <td>5.023651e-13</td>\n",
              "      <td>8.512277e-13</td>\n",
              "      <td>1.290912e-13</td>\n",
              "      <td>2.595140</td>\n",
              "      <td>0.112935</td>\n",
              "      <td>1.120552e-12</td>\n",
              "      <td>1.934280e-13</td>\n",
              "      <td>2.324850</td>\n",
              "      <td>0.270311</td>\n",
              "      <td>0.322224</td>\n",
              "      <td>0.200777</td>\n",
              "      <td>2.408406</td>\n",
              "      <td>375.96356</td>\n",
              "      <td>2.597637e+02</td>\n",
              "      <td>1.091525e-12</td>\n",
              "      <td>1.882269e-13</td>\n",
              "      <td>2.248835</td>\n",
              "      <td>0.269181</td>\n",
              "      <td>0.490786</td>\n",
              "      <td>0.310822</td>\n",
              "      <td>0.666667</td>\n",
              "      <td>NaN</td>\n",
              "      <td>2.578978</td>\n",
              "      <td>335.22855</td>\n",
              "      <td>402.86072</td>\n",
              "      <td>450.62347</td>\n",
              "      <td>15.327200</td>\n",
              "      <td>0.369278</td>\n",
              "      <td>0.269170</td>\n",
              "      <td>-inf</td>\n",
              "      <td>-inf</td>\n",
              "      <td>-inf</td>\n",
              "      <td>-inf</td>\n",
              "      <td>-inf</td>\n",
              "      <td>0.240000</td>\n",
              "      <td>0.000000</td>\n",
              "      <td>NaN</td>\n",
              "      <td>NaN</td>\n",
              "      <td>NaN</td>\n",
              "      <td>2</td>\n",
              "    </tr>\n",
              "    <tr>\n",
              "      <th>6656</th>\n",
              "      <td>Soft</td>\n",
              "      <td>3</td>\n",
              "      <td>359.9365</td>\n",
              "      <td>-50.6853</td>\n",
              "      <td>322.128050</td>\n",
              "      <td>-64.472755</td>\n",
              "      <td>0.130685</td>\n",
              "      <td>0.103919</td>\n",
              "      <td>84.49</td>\n",
              "      <td>0.2119</td>\n",
              "      <td>0.1685</td>\n",
              "      <td>84.49</td>\n",
              "      <td>751</td>\n",
              "      <td>4.763167</td>\n",
              "      <td>842.0542</td>\n",
              "      <td>8.286240e-11</td>\n",
              "      <td>2.406249e-11</td>\n",
              "      <td>8.187322e-13</td>\n",
              "      <td>2.772015e-13</td>\n",
              "      <td>1.846089e-13</td>\n",
              "      <td>4.247069e-14</td>\n",
              "      <td>2.684101</td>\n",
              "      <td>0.160861</td>\n",
              "      <td>3.137423e-13</td>\n",
              "      <td>7.663811e-14</td>\n",
              "      <td>2.596392</td>\n",
              "      <td>0.398837</td>\n",
              "      <td>0.731089</td>\n",
              "      <td>0.464405</td>\n",
              "      <td>2.850321</td>\n",
              "      <td>560.01587</td>\n",
              "      <td>2.134525e+02</td>\n",
              "      <td>3.012063e-13</td>\n",
              "      <td>7.480374e-14</td>\n",
              "      <td>2.448101</td>\n",
              "      <td>0.370554</td>\n",
              "      <td>1.196060</td>\n",
              "      <td>0.856958</td>\n",
              "      <td>0.666667</td>\n",
              "      <td>NaN</td>\n",
              "      <td>2.815195</td>\n",
              "      <td>547.18750</td>\n",
              "      <td>301.02840</td>\n",
              "      <td>232.47144</td>\n",
              "      <td>7.732565</td>\n",
              "      <td>0.000000</td>\n",
              "      <td>10.000000</td>\n",
              "      <td>-inf</td>\n",
              "      <td>-inf</td>\n",
              "      <td>-inf</td>\n",
              "      <td>-inf</td>\n",
              "      <td>-inf</td>\n",
              "      <td>0.962129</td>\n",
              "      <td>0.881874</td>\n",
              "      <td>359.948364</td>\n",
              "      <td>-50.709278</td>\n",
              "      <td>4.500000e-03</td>\n",
              "      <td>0</td>\n",
              "    </tr>\n",
              "    <tr>\n",
              "      <th>6657</th>\n",
              "      <td>bcu</td>\n",
              "      <td>1</td>\n",
              "      <td>359.9816</td>\n",
              "      <td>-37.6160</td>\n",
              "      <td>345.662840</td>\n",
              "      <td>-74.919624</td>\n",
              "      <td>0.050757</td>\n",
              "      <td>0.043541</td>\n",
              "      <td>-58.77</td>\n",
              "      <td>0.0823</td>\n",
              "      <td>0.0706</td>\n",
              "      <td>-58.77</td>\n",
              "      <td>1460</td>\n",
              "      <td>9.711958</td>\n",
              "      <td>1730.6754</td>\n",
              "      <td>1.915395e-10</td>\n",
              "      <td>2.659639e-11</td>\n",
              "      <td>2.139277e-12</td>\n",
              "      <td>2.907011e-13</td>\n",
              "      <td>6.743669e-14</td>\n",
              "      <td>9.122463e-15</td>\n",
              "      <td>2.120210</td>\n",
              "      <td>0.099106</td>\n",
              "      <td>8.021262e-14</td>\n",
              "      <td>1.289827e-14</td>\n",
              "      <td>2.007299</td>\n",
              "      <td>0.152216</td>\n",
              "      <td>0.127121</td>\n",
              "      <td>0.092144</td>\n",
              "      <td>1.697972</td>\n",
              "      <td>1681.69820</td>\n",
              "      <td>1.023358e+03</td>\n",
              "      <td>7.524951e-14</td>\n",
              "      <td>1.147195e-14</td>\n",
              "      <td>1.994491</td>\n",
              "      <td>0.145641</td>\n",
              "      <td>0.104679</td>\n",
              "      <td>0.098976</td>\n",
              "      <td>0.666667</td>\n",
              "      <td>NaN</td>\n",
              "      <td>1.479188</td>\n",
              "      <td>1822.55490</td>\n",
              "      <td>2405.31740</td>\n",
              "      <td>368.82977</td>\n",
              "      <td>8.143241</td>\n",
              "      <td>0.000000</td>\n",
              "      <td>10.000000</td>\n",
              "      <td>-inf</td>\n",
              "      <td>-inf</td>\n",
              "      <td>-inf</td>\n",
              "      <td>-inf</td>\n",
              "      <td>-inf</td>\n",
              "      <td>0.991349</td>\n",
              "      <td>0.000000</td>\n",
              "      <td>0.035059</td>\n",
              "      <td>-37.639076</td>\n",
              "      <td>3.278325e-07</td>\n",
              "      <td>0</td>\n",
              "    </tr>\n",
              "    <tr>\n",
              "      <th>6658</th>\n",
              "      <td>bcu</td>\n",
              "      <td>3</td>\n",
              "      <td>359.9908</td>\n",
              "      <td>31.7601</td>\n",
              "      <td>110.321010</td>\n",
              "      <td>-29.848010</td>\n",
              "      <td>0.018934</td>\n",
              "      <td>0.017947</td>\n",
              "      <td>-74.10</td>\n",
              "      <td>0.0307</td>\n",
              "      <td>0.0291</td>\n",
              "      <td>-74.10</td>\n",
              "      <td>75</td>\n",
              "      <td>10.629269</td>\n",
              "      <td>3161.0903</td>\n",
              "      <td>2.083780e-10</td>\n",
              "      <td>3.610485e-11</td>\n",
              "      <td>1.855474e-12</td>\n",
              "      <td>3.837229e-13</td>\n",
              "      <td>2.109173e-14</td>\n",
              "      <td>3.204981e-15</td>\n",
              "      <td>1.883783</td>\n",
              "      <td>0.103562</td>\n",
              "      <td>2.556651e-14</td>\n",
              "      <td>4.640753e-15</td>\n",
              "      <td>1.629147</td>\n",
              "      <td>0.221446</td>\n",
              "      <td>0.191306</td>\n",
              "      <td>0.125233</td>\n",
              "      <td>2.043163</td>\n",
              "      <td>8332.66100</td>\n",
              "      <td>3.906868e+03</td>\n",
              "      <td>2.439895e-14</td>\n",
              "      <td>4.283997e-15</td>\n",
              "      <td>1.597180</td>\n",
              "      <td>0.216451</td>\n",
              "      <td>0.212592</td>\n",
              "      <td>0.144651</td>\n",
              "      <td>0.666667</td>\n",
              "      <td>NaN</td>\n",
              "      <td>2.082242</td>\n",
              "      <td>10762.73200</td>\n",
              "      <td>4496.91400</td>\n",
              "      <td>156.44347</td>\n",
              "      <td>17.283010</td>\n",
              "      <td>0.416743</td>\n",
              "      <td>0.248753</td>\n",
              "      <td>-inf</td>\n",
              "      <td>-inf</td>\n",
              "      <td>-inf</td>\n",
              "      <td>-inf</td>\n",
              "      <td>-inf</td>\n",
              "      <td>0.999367</td>\n",
              "      <td>0.892893</td>\n",
              "      <td>359.980408</td>\n",
              "      <td>31.766666</td>\n",
              "      <td>4.500000e-03</td>\n",
              "      <td>0</td>\n",
              "    </tr>\n",
              "  </tbody>\n",
              "</table>\n",
              "<p>6659 rows × 58 columns</p>\n",
              "</div>"
            ],
            "text/plain": [
              "     class_4FGL  DataRelease   RAJ2000  ...  DEC_Counterpart  Unc_Counterpart  Flags\n",
              "0           NaN            1    0.0983  ...              NaN              NaN      0\n",
              "1           NaN            2    0.1375  ...              NaN              NaN      0\n",
              "2           NaN            3    0.1878  ...              NaN              NaN      0\n",
              "3           bcu            1    0.3126  ...        47.700201     8.400000e-07      0\n",
              "4          Soft            1    0.3151  ...        -7.774145     1.800000e-07      0\n",
              "...         ...          ...       ...  ...              ...              ...    ...\n",
              "6654        bll            1  359.8357  ...       -20.798897     1.000000e-06      0\n",
              "6655       Soft            1  359.8390  ...              NaN              NaN      2\n",
              "6656       Soft            3  359.9365  ...       -50.709278     4.500000e-03      0\n",
              "6657        bcu            1  359.9816  ...       -37.639076     3.278325e-07      0\n",
              "6658        bcu            3  359.9908  ...        31.766666     4.500000e-03      0\n",
              "\n",
              "[6659 rows x 58 columns]"
            ]
          },
          "metadata": {},
          "execution_count": 7
        }
      ]
    },
    {
      "cell_type": "code",
      "metadata": {
        "id": "UMn-Qq5omvWs"
      },
      "source": [
        "target_df = newdf[[\"class_4FGL\",\"Flux1000\", \"PL_Index\", \"LP_Index\", \"LP_SigCurv\", \"PLEC_ExpfactorS\", \"PLEC_Flux_Density\",\"Frac_Variability\"]]\n",
        "\n",
        "\n",
        "\n"
      ],
      "execution_count": null,
      "outputs": []
    },
    {
      "cell_type": "code",
      "metadata": {
        "colab": {
          "base_uri": "https://localhost:8080/",
          "height": 419
        },
        "id": "i_dPNKXSt8Wa",
        "outputId": "db9094ff-076d-440d-e774-a7a0f38a6d28"
      },
      "source": [
        "mod_df = target_df.dropna(axis=0)\n",
        "mod_df = mod_df.replace([np.inf, -np.inf], np.nan).dropna(axis=0)\n",
        "\n",
        "mod_df"
      ],
      "execution_count": null,
      "outputs": [
        {
          "output_type": "execute_result",
          "data": {
            "text/html": [
              "<div>\n",
              "<style scoped>\n",
              "    .dataframe tbody tr th:only-of-type {\n",
              "        vertical-align: middle;\n",
              "    }\n",
              "\n",
              "    .dataframe tbody tr th {\n",
              "        vertical-align: top;\n",
              "    }\n",
              "\n",
              "    .dataframe thead th {\n",
              "        text-align: right;\n",
              "    }\n",
              "</style>\n",
              "<table border=\"1\" class=\"dataframe\">\n",
              "  <thead>\n",
              "    <tr style=\"text-align: right;\">\n",
              "      <th></th>\n",
              "      <th>class_4FGL</th>\n",
              "      <th>Flux1000</th>\n",
              "      <th>PL_Index</th>\n",
              "      <th>LP_Index</th>\n",
              "      <th>LP_SigCurv</th>\n",
              "      <th>PLEC_ExpfactorS</th>\n",
              "      <th>PLEC_Flux_Density</th>\n",
              "      <th>Frac_Variability</th>\n",
              "    </tr>\n",
              "  </thead>\n",
              "  <tbody>\n",
              "    <tr>\n",
              "      <th>3</th>\n",
              "      <td>bcu</td>\n",
              "      <td>1.259796e-10</td>\n",
              "      <td>2.271696</td>\n",
              "      <td>2.254081</td>\n",
              "      <td>0.083893</td>\n",
              "      <td>0.029462</td>\n",
              "      <td>2.228697e-14</td>\n",
              "      <td>0.675882</td>\n",
              "    </tr>\n",
              "    <tr>\n",
              "      <th>4</th>\n",
              "      <td>Soft</td>\n",
              "      <td>7.471219e-10</td>\n",
              "      <td>2.116692</td>\n",
              "      <td>2.078927</td>\n",
              "      <td>1.697737</td>\n",
              "      <td>0.063212</td>\n",
              "      <td>2.813444e-13</td>\n",
              "      <td>0.406565</td>\n",
              "    </tr>\n",
              "    <tr>\n",
              "      <th>5</th>\n",
              "      <td>bll</td>\n",
              "      <td>1.082246e-10</td>\n",
              "      <td>1.939160</td>\n",
              "      <td>1.661223</td>\n",
              "      <td>0.425023</td>\n",
              "      <td>0.179718</td>\n",
              "      <td>6.563064e-15</td>\n",
              "      <td>0.000000</td>\n",
              "    </tr>\n",
              "    <tr>\n",
              "      <th>6</th>\n",
              "      <td>Soft</td>\n",
              "      <td>1.347354e-09</td>\n",
              "      <td>2.654060</td>\n",
              "      <td>2.514159</td>\n",
              "      <td>8.188197</td>\n",
              "      <td>0.192549</td>\n",
              "      <td>5.180525e-11</td>\n",
              "      <td>0.996138</td>\n",
              "    </tr>\n",
              "    <tr>\n",
              "      <th>8</th>\n",
              "      <td>bcu</td>\n",
              "      <td>2.821817e-10</td>\n",
              "      <td>1.775176</td>\n",
              "      <td>1.693865</td>\n",
              "      <td>1.517829</td>\n",
              "      <td>0.064962</td>\n",
              "      <td>2.050626e-14</td>\n",
              "      <td>0.490977</td>\n",
              "    </tr>\n",
              "    <tr>\n",
              "      <th>...</th>\n",
              "      <td>...</td>\n",
              "      <td>...</td>\n",
              "      <td>...</td>\n",
              "      <td>...</td>\n",
              "      <td>...</td>\n",
              "      <td>...</td>\n",
              "      <td>...</td>\n",
              "      <td>...</td>\n",
              "    </tr>\n",
              "    <tr>\n",
              "      <th>6654</th>\n",
              "      <td>bll</td>\n",
              "      <td>3.462985e-10</td>\n",
              "      <td>1.984188</td>\n",
              "      <td>1.982751</td>\n",
              "      <td>0.000000</td>\n",
              "      <td>0.026185</td>\n",
              "      <td>5.348124e-14</td>\n",
              "      <td>0.177217</td>\n",
              "    </tr>\n",
              "    <tr>\n",
              "      <th>6655</th>\n",
              "      <td>Soft</td>\n",
              "      <td>1.796826e-10</td>\n",
              "      <td>2.595140</td>\n",
              "      <td>2.324850</td>\n",
              "      <td>2.408406</td>\n",
              "      <td>0.490786</td>\n",
              "      <td>1.091525e-12</td>\n",
              "      <td>0.369278</td>\n",
              "    </tr>\n",
              "    <tr>\n",
              "      <th>6656</th>\n",
              "      <td>Soft</td>\n",
              "      <td>8.286240e-11</td>\n",
              "      <td>2.684101</td>\n",
              "      <td>2.596392</td>\n",
              "      <td>2.850321</td>\n",
              "      <td>1.196060</td>\n",
              "      <td>3.012063e-13</td>\n",
              "      <td>0.000000</td>\n",
              "    </tr>\n",
              "    <tr>\n",
              "      <th>6657</th>\n",
              "      <td>bcu</td>\n",
              "      <td>1.915395e-10</td>\n",
              "      <td>2.120210</td>\n",
              "      <td>2.007299</td>\n",
              "      <td>1.697972</td>\n",
              "      <td>0.104679</td>\n",
              "      <td>7.524951e-14</td>\n",
              "      <td>0.000000</td>\n",
              "    </tr>\n",
              "    <tr>\n",
              "      <th>6658</th>\n",
              "      <td>bcu</td>\n",
              "      <td>2.083780e-10</td>\n",
              "      <td>1.883783</td>\n",
              "      <td>1.629147</td>\n",
              "      <td>2.043163</td>\n",
              "      <td>0.212592</td>\n",
              "      <td>2.439895e-14</td>\n",
              "      <td>0.416743</td>\n",
              "    </tr>\n",
              "  </tbody>\n",
              "</table>\n",
              "<p>5584 rows × 8 columns</p>\n",
              "</div>"
            ],
            "text/plain": [
              "     class_4FGL      Flux1000  ...  PLEC_Flux_Density  Frac_Variability\n",
              "3           bcu  1.259796e-10  ...       2.228697e-14          0.675882\n",
              "4          Soft  7.471219e-10  ...       2.813444e-13          0.406565\n",
              "5           bll  1.082246e-10  ...       6.563064e-15          0.000000\n",
              "6          Soft  1.347354e-09  ...       5.180525e-11          0.996138\n",
              "8           bcu  2.821817e-10  ...       2.050626e-14          0.490977\n",
              "...         ...           ...  ...                ...               ...\n",
              "6654        bll  3.462985e-10  ...       5.348124e-14          0.177217\n",
              "6655       Soft  1.796826e-10  ...       1.091525e-12          0.369278\n",
              "6656       Soft  8.286240e-11  ...       3.012063e-13          0.000000\n",
              "6657        bcu  1.915395e-10  ...       7.524951e-14          0.000000\n",
              "6658        bcu  2.083780e-10  ...       2.439895e-14          0.416743\n",
              "\n",
              "[5584 rows x 8 columns]"
            ]
          },
          "metadata": {},
          "execution_count": 9
        }
      ]
    },
    {
      "cell_type": "code",
      "metadata": {
        "id": "_xBuyvoIrULo"
      },
      "source": [
        "mod_df_log_transform  = mod_df.copy()"
      ],
      "execution_count": null,
      "outputs": []
    },
    {
      "cell_type": "code",
      "metadata": {
        "colab": {
          "base_uri": "https://localhost:8080/",
          "height": 777
        },
        "id": "4uEJrddGYRGZ",
        "outputId": "f81c404e-0f17-4fdc-b561-09163c0d871d"
      },
      "source": [
        "mod_df_log_transform.hist(bins=30, figsize=(15, 10))"
      ],
      "execution_count": null,
      "outputs": [
        {
          "output_type": "execute_result",
          "data": {
            "text/plain": [
              "array([[<matplotlib.axes._subplots.AxesSubplot object at 0x7f4bb686a610>,\n",
              "        <matplotlib.axes._subplots.AxesSubplot object at 0x7f4bb67b7b10>,\n",
              "        <matplotlib.axes._subplots.AxesSubplot object at 0x7f4bb677d190>],\n",
              "       [<matplotlib.axes._subplots.AxesSubplot object at 0x7f4bb6733810>,\n",
              "        <matplotlib.axes._subplots.AxesSubplot object at 0x7f4bb6768e90>,\n",
              "        <matplotlib.axes._subplots.AxesSubplot object at 0x7f4bb6728550>],\n",
              "       [<matplotlib.axes._subplots.AxesSubplot object at 0x7f4bb66dff50>,\n",
              "        <matplotlib.axes._subplots.AxesSubplot object at 0x7f4bb66a4610>,\n",
              "        <matplotlib.axes._subplots.AxesSubplot object at 0x7f4bb66a4650>]],\n",
              "      dtype=object)"
            ]
          },
          "metadata": {},
          "execution_count": 11
        },
        {
          "output_type": "display_data",
          "data": {
            "image/png": "[encoded data removed]",
            "text/plain": [
              "<Figure size 1080x720 with 9 Axes>"
            ]
          },
          "metadata": {
            "needs_background": "light"
          }
        }
      ]
    },
    {
      "cell_type": "code",
      "metadata": {
        "colab": {
          "base_uri": "https://localhost:8080/"
        },
        "id": "VzGL65Fc6h-D",
        "outputId": "d4a48162-982a-4a8d-cd92-591b1bf7cd4c"
      },
      "source": [
        "print(mod_df_log_transform['class_4FGL'].value_counts())"
      ],
      "execution_count": null,
      "outputs": [
        {
          "output_type": "stream",
          "text": [
            "Soft    3102\n",
            "bll     1042\n",
            "bcu      892\n",
            "fsrq     131\n",
            "MSP       89\n",
            "PSR       70\n",
            "unk       67\n",
            "spp       42\n",
            "rdg       26\n",
            "msp       21\n",
            "glc       19\n",
            "SNR       15\n",
            "BLL       11\n",
            "PWN        9\n",
            "snr        8\n",
            "pwn        7\n",
            "agn        7\n",
            "bin        5\n",
            "gal        4\n",
            "lmb        3\n",
            "RDG        3\n",
            "sbg        3\n",
            "SFR        2\n",
            "hmb        2\n",
            "psr        1\n",
            "sey        1\n",
            "HMB        1\n",
            "css        1\n",
            "Name: class_4FGL, dtype: int64\n"
          ],
          "name": "stdout"
        }
      ]
    },
    {
      "cell_type": "code",
      "metadata": {
        "id": "6dKeSkllIzcE"
      },
      "source": [
        "mod_df_log_transform.loc[(mod_df_log_transform.class_4FGL == 'FSRQ'),'class_4FGL']='fsrq'\n",
        "mod_df_log_transform.loc[(mod_df_log_transform.class_4FGL == 'PSR'),'class_4FGL']='psr'\n",
        "mod_df_log_transform.loc[(mod_df_log_transform.class_4FGL == 'BCU'),'class_4FGL']='bcu'\n",
        "mod_df_log_transform.loc[(mod_df_log_transform.class_4FGL == 'BLL'),'class_4FGL']='bll'"
      ],
      "execution_count": null,
      "outputs": []
    },
    {
      "cell_type": "code",
      "metadata": {
        "id": "p3YbUwgfH_dw"
      },
      "source": [
        "mod_df_log_transform.loc[(mod_df_log_transform.class_4FGL == 'bcu'),'class_4FGL']='bcu-bll-fsrq-agn'\n",
        "mod_df_log_transform.loc[(mod_df_log_transform.class_4FGL == 'bll'),'class_4FGL']='bcu-bll-fsrq-agn'\n",
        "mod_df_log_transform.loc[(mod_df_log_transform.class_4FGL == 'fsrq'),'class_4FGL']='bcu-bll-fsrq-agn'\n",
        "mod_df_log_transform.loc[(mod_df_log_transform.class_4FGL == 'agn'),'class_4FGL']='bcu-bll-fsrq-agn'"
      ],
      "execution_count": null,
      "outputs": []
    },
    {
      "cell_type": "code",
      "metadata": {
        "id": "gZ_zV7v6JqUT"
      },
      "source": [
        "# drop rdg\n",
        "indexNames_rdg = mod_df_log_transform[mod_df_log_transform['class_4FGL'] == 'rdg'].index\n",
        "mod_df_log_transform.drop(indexNames_rdg , inplace=True)\n",
        "# drop unk\n",
        "indexNames_unk = mod_df_log_transform[mod_df_log_transform['class_4FGL'] == 'unk'].index\n",
        "mod_df_log_transform.drop(indexNames_unk , inplace=True)\n",
        "# drop LMB\n",
        "indexNames_LMB = mod_df_log_transform[mod_df_log_transform['class_4FGL'] == 'LMB'].index\n",
        "mod_df_log_transform.drop(indexNames_LMB , inplace=True)"
      ],
      "execution_count": null,
      "outputs": []
    },
    {
      "cell_type": "code",
      "metadata": {
        "id": "IGloVdNWLHdN"
      },
      "source": [
        "# drop nlsy1\n",
        "indexNames_nlsy1 = mod_df_log_transform[mod_df_log_transform['class_4FGL'] == 'nlsy1'].index\n",
        "mod_df_log_transform.drop(indexNames_nlsy1 , inplace=True)\n",
        "\n",
        "# drop sfr\n",
        "indexNames_sfr = mod_df_log_transform[mod_df_log_transform['class_4FGL'] == 'sfr'].index\n",
        "mod_df_log_transform.drop(indexNames_sfr , inplace=True)\n",
        "\n",
        "# drop ssrq\n",
        "indexNames_ssrq = mod_df_log_transform[mod_df_log_transform['class_4FGL'] == 'ssrq'].index\n",
        "mod_df_log_transform.drop(indexNames_ssrq , inplace=True)\n",
        "\n",
        "# snr\n",
        "indexNames_snr = mod_df_log_transform[mod_df_log_transform['class_4FGL'] == 'snr'].index\n",
        "mod_df_log_transform.drop(indexNames_snr , inplace=True)\n",
        "\n",
        "# drop HMB\n",
        "indexNames_HMB = mod_df_log_transform[mod_df_log_transform['class_4FGL'] == 'HMB'].index\n",
        "mod_df_log_transform.drop(indexNames_HMB , inplace=True)\n",
        "\n",
        "# drop pwn\n",
        "indexNames_pwn = mod_df_log_transform[mod_df_log_transform['class_4FGL'] == 'pwn'].index\n",
        "mod_df_log_transform.drop(indexNames_pwn , inplace=True)\n",
        "\n",
        "# drop NOV\n",
        "indexNames_NOV = mod_df_log_transform[mod_df_log_transform['class_4FGL'] == 'NOV'].index\n",
        "mod_df_log_transform.drop(indexNames_NOV , inplace=True)\n",
        "\n",
        "# RDG\n",
        "indexNames_RDG = mod_df_log_transform[mod_df_log_transform['class_4FGL'] == 'RDG'].index\n",
        "mod_df_log_transform.drop(indexNames_RDG , inplace=True)"
      ],
      "execution_count": null,
      "outputs": []
    },
    {
      "cell_type": "code",
      "metadata": {
        "id": "lnHF2vdvVMEJ"
      },
      "source": [
        "# drop css\n",
        "indexNames_css = mod_df_log_transform[mod_df_log_transform['class_4FGL'] == 'css'].index\n",
        "mod_df_log_transform.drop(indexNames_css , inplace=True)\n",
        "\n",
        "# drop PWN\n",
        "indexNames_PWN = mod_df_log_transform[mod_df_log_transform['class_4FGL'] == 'PWN'].index\n",
        "mod_df_log_transform.drop(indexNames_PWN , inplace=True)\n",
        "\n",
        "# drop glc\n",
        "indexNames_glc = mod_df_log_transform[mod_df_log_transform['class_4FGL'] == 'glc'].index\n",
        "mod_df_log_transform.drop(indexNames_glc , inplace=True)\n",
        "\n",
        "# drop spp\n",
        "indexNames_spp = mod_df_log_transform[mod_df_log_transform['class_4FGL'] == 'spp'].index\n",
        "mod_df_log_transform.drop(indexNames_spp , inplace=True)\n",
        "\n",
        "# drop bin\n",
        "indexNames_bin = mod_df_log_transform[mod_df_log_transform['class_4FGL'] == 'bin'].index\n",
        "mod_df_log_transform.drop(indexNames_bin , inplace=True)\n",
        "\n",
        "# drop gal\n",
        "indexNames_gal = mod_df_log_transform[mod_df_log_transform['class_4FGL'] == 'gal'].index\n",
        "mod_df_log_transform.drop(indexNames_gal , inplace=True)\n",
        "\n",
        "# drop lmb\n",
        "indexNames_lmb = mod_df_log_transform[mod_df_log_transform['class_4FGL'] == 'lmb'].index\n",
        "mod_df_log_transform.drop(indexNames_lmb , inplace=True)\n",
        "\n",
        "# drop sbg\n",
        "indexNames_sbg = mod_df_log_transform[mod_df_log_transform['class_4FGL'] == 'sbg'].index\n",
        "mod_df_log_transform.drop(indexNames_sbg , inplace=True)\n",
        "\n",
        "# drop SFR\n",
        "indexNames_SFR = mod_df_log_transform[mod_df_log_transform['class_4FGL'] == 'SFR'].index\n",
        "mod_df_log_transform.drop(indexNames_SFR , inplace=True)\n",
        "\n",
        "# drop hmb\n",
        "indexNames_hmb = mod_df_log_transform[mod_df_log_transform['class_4FGL'] == 'hmb'].index\n",
        "mod_df_log_transform.drop(indexNames_hmb, inplace=True)\n",
        "\n",
        "# drop sey\n",
        "indexNames_sey = mod_df_log_transform[mod_df_log_transform['class_4FGL'] == 'sey'].index\n",
        "mod_df_log_transform.drop(indexNames_sey , inplace=True)"
      ],
      "execution_count": null,
      "outputs": []
    },
    {
      "cell_type": "code",
      "metadata": {
        "colab": {
          "base_uri": "https://localhost:8080/"
        },
        "id": "YVyuftrBIo4E",
        "outputId": "60549805-7e33-48ae-9577-086affd5a176"
      },
      "source": [
        "print(mod_df_log_transform['class_4FGL'].value_counts())"
      ],
      "execution_count": null,
      "outputs": [
        {
          "output_type": "stream",
          "text": [
            "Soft                3102\n",
            "bcu-bll-fsrq-agn    2083\n",
            "MSP                   89\n",
            "psr                   71\n",
            "msp                   21\n",
            "SNR                   15\n",
            "Name: class_4FGL, dtype: int64\n"
          ],
          "name": "stdout"
        }
      ]
    },
    {
      "cell_type": "code",
      "metadata": {
        "colab": {
          "base_uri": "https://localhost:8080/"
        },
        "id": "nQv9ObAn2nsa",
        "outputId": "05db5350-a2d4-4665-e494-5bfa0e00f7c7"
      },
      "source": [
        "list(mod_df_log_transform.columns)"
      ],
      "execution_count": null,
      "outputs": [
        {
          "output_type": "execute_result",
          "data": {
            "text/plain": [
              "['class_4FGL',\n",
              " 'Flux1000',\n",
              " 'PL_Index',\n",
              " 'LP_Index',\n",
              " 'LP_SigCurv',\n",
              " 'PLEC_ExpfactorS',\n",
              " 'PLEC_Flux_Density',\n",
              " 'Frac_Variability']"
            ]
          },
          "metadata": {},
          "execution_count": 19
        }
      ]
    },
    {
      "cell_type": "code",
      "metadata": {
        "id": "Ek9itL2Qd7md"
      },
      "source": [
        "mod_df_log_transform.to_csv('Post_process_4FGL.csv')"
      ],
      "execution_count": null,
      "outputs": []
    },
    {
      "cell_type": "code",
      "metadata": {
        "id": "FkJ3b04dygZz"
      },
      "source": [
        "# sns.pairplot(mod_df_log_transform, hue=\"class_4FGL\",diag_kind='hist')"
      ],
      "execution_count": null,
      "outputs": []
    },
    {
      "cell_type": "code",
      "metadata": {
        "id": "4cfCkfFvb9RP",
        "colab": {
          "base_uri": "https://localhost:8080/",
          "height": 297
        },
        "outputId": "6978d476-2610-4385-a890-eb1b318ac806"
      },
      "source": [
        "# Plot histogram, change the variable name to plot different columns. Check seaborn doc at: https://seaborn.pydata.org/generated/seaborn.histplot.html\n",
        "target = mod_df_log_transform.loc[(mod_df_log_transform['class_4FGL'] == 'bcu-bll-fsrq-agn') | (mod_df_log_transform['class_4FGL'] == 'Soft')]\n",
        "sns.histplot(data=target, x=\"Frac_Variability\", hue=\"class_4FGL\", element=\"step\", stat=\"density\", common_norm=False,)"
      ],
      "execution_count": null,
      "outputs": [
        {
          "output_type": "execute_result",
          "data": {
            "text/plain": [
              "<matplotlib.axes._subplots.AxesSubplot at 0x7f4bb6835550>"
            ]
          },
          "metadata": {},
          "execution_count": 20
        },
        {
          "output_type": "display_data",
          "data": {
            "image/png": "[encoded data removed]",
            "text/plain": [
              "<Figure size 432x288 with 1 Axes>"
            ]
          },
          "metadata": {
            "needs_background": "light"
          }
        }
      ]
    },
    {
      "cell_type": "code",
      "metadata": {
        "id": "rOuzw6WbOt0D"
      },
      "source": [
        "# Plot scatter plot, change the variable name to plot different columns.\n",
        "temp = mod_df_log_transform[(mod_df_log_transform['class_4FGL'] == 'bcu-bll-fsrq-agn') | (mod_df_log_transform['class_4FGL'] == 'Soft')]"
      ],
      "execution_count": null,
      "outputs": []
    },
    {
      "cell_type": "code",
      "metadata": {
        "colab": {
          "base_uri": "https://localhost:8080/",
          "height": 308
        },
        "id": "jQVjeK4JPbvW",
        "outputId": "fd1aeea1-9423-48c9-a7cf-493bddb16600"
      },
      "source": [
        "sns.scatterplot(data=temp, x=\"Frac_Variability\", y=\"Flux1000\", hue=\"class_4FGL\")"
      ],
      "execution_count": null,
      "outputs": [
        {
          "output_type": "execute_result",
          "data": {
            "text/plain": [
              "<matplotlib.axes._subplots.AxesSubplot at 0x7f4bb5c48d90>"
            ]
          },
          "metadata": {},
          "execution_count": 24
        },
        {
          "output_type": "display_data",
          "data": {
            "image/png": "[encoded data removed]",
            "text/plain": [
              "<Figure size 432x288 with 1 Axes>"
            ]
          },
          "metadata": {
            "needs_background": "light"
          }
        }
      ]
    },
    {
      "cell_type": "markdown",
      "metadata": {
        "id": "6Jp8T3dHakPh"
      },
      "source": [
        "## Apply RFE algo\n"
      ]
    },
    {
      "cell_type": "code",
      "metadata": {
        "id": "mqHaP_8Sk8gd"
      },
      "source": [
        "from numpy import mean\n",
        "from numpy import std\n",
        "from sklearn.datasets import make_classification\n",
        "from sklearn.model_selection import cross_val_score\n",
        "from sklearn.model_selection import RepeatedStratifiedKFold\n",
        "from sklearn.feature_selection import RFECV\n",
        "from sklearn.tree import DecisionTreeClassifier\n",
        "from sklearn.pipeline import Pipeline\n",
        "from sklearn.feature_selection import RFE"
      ],
      "execution_count": null,
      "outputs": []
    },
    {
      "cell_type": "code",
      "metadata": {
        "id": "x_jXltxV7hVQ",
        "colab": {
          "base_uri": "https://localhost:8080/"
        },
        "outputId": "9c4762dc-b391-4d74-8f3d-9ec29909223e"
      },
      "source": [
        "X = mod_df_log_transform.loc[:, mod_df_log_transform.columns != 'class_4FGL']\n",
        "y = mod_df_log_transform['class_4FGL']\n",
        "print(X.shape, y.shape)"
      ],
      "execution_count": null,
      "outputs": [
        {
          "output_type": "stream",
          "text": [
            "(749, 18) (749,)\n"
          ],
          "name": "stdout"
        }
      ]
    },
    {
      "cell_type": "code",
      "metadata": {
        "id": "eS8hPKtgB2tr"
      },
      "source": [
        "# define dataset\n",
        "X, y = make_classification(n_samples=749, n_features=18, n_informative=6, n_redundant=12, random_state=1)\n",
        "# create pipeline\n",
        "rfe = RFECV(estimator=DecisionTreeClassifier())\n",
        "model = DecisionTreeClassifier()\n",
        "pipeline = Pipeline(steps=[('s',rfe),('m',model)])"
      ],
      "execution_count": null,
      "outputs": []
    },
    {
      "cell_type": "code",
      "metadata": {
        "id": "n-yruOKqC584",
        "colab": {
          "base_uri": "https://localhost:8080/"
        },
        "outputId": "915a2a27-1687-4012-b889-e234efb3986f"
      },
      "source": [
        "cv = RepeatedStratifiedKFold(n_splits=8, n_repeats=3, random_state=1)\n",
        "n_scores = cross_val_score(pipeline, X, y, scoring='accuracy', cv=cv, n_jobs=-1, error_score='raise')\n",
        "# report performance\n",
        "print('Accuracy: %.3f (%.3f)' % (mean(n_scores), std(n_scores)))"
      ],
      "execution_count": null,
      "outputs": [
        {
          "output_type": "stream",
          "text": [
            "Accuracy: 0.859 (0.045)\n"
          ],
          "name": "stdout"
        }
      ]
    },
    {
      "cell_type": "code",
      "metadata": {
        "colab": {
          "base_uri": "https://localhost:8080/"
        },
        "id": "X5DaAkDwlLN1",
        "outputId": "652aaae4-90c0-487d-b7de-44e1d8cf6948"
      },
      "source": [
        "# define RFE\n",
        "rfe = RFE(estimator=DecisionTreeClassifier(), n_features_to_select=8)\n",
        "# fit RFE\n",
        "rfe.fit(X, y)\n",
        "# summarize all features\n",
        "for i in range(X.shape[1]):\n",
        "\tprint('Column: %d, Selected %s, Rank: %.3f' % (i, rfe.support_[i], rfe.ranking_[i]))"
      ],
      "execution_count": null,
      "outputs": [
        {
          "output_type": "stream",
          "text": [
            "Column: 0, Selected True, Rank: 1.000\n",
            "Column: 1, Selected False, Rank: 3.000\n",
            "Column: 2, Selected False, Rank: 11.000\n",
            "Column: 3, Selected True, Rank: 1.000\n",
            "Column: 4, Selected False, Rank: 7.000\n",
            "Column: 5, Selected False, Rank: 2.000\n",
            "Column: 6, Selected False, Rank: 8.000\n",
            "Column: 7, Selected True, Rank: 1.000\n",
            "Column: 8, Selected False, Rank: 9.000\n",
            "Column: 9, Selected True, Rank: 1.000\n",
            "Column: 10, Selected False, Rank: 6.000\n",
            "Column: 11, Selected False, Rank: 10.000\n",
            "Column: 12, Selected True, Rank: 1.000\n",
            "Column: 13, Selected True, Rank: 1.000\n",
            "Column: 14, Selected False, Rank: 5.000\n",
            "Column: 15, Selected True, Rank: 1.000\n",
            "Column: 16, Selected True, Rank: 1.000\n",
            "Column: 17, Selected False, Rank: 4.000\n"
          ],
          "name": "stdout"
        }
      ]
    },
    {
      "cell_type": "code",
      "metadata": {
        "colab": {
          "base_uri": "https://localhost:8080/"
        },
        "id": "094yxpXjl2Nd",
        "outputId": "6db80cb7-2c7b-4985-d66b-4680b3a4afd8"
      },
      "source": [
        "mod_df_log_transform.iloc[:,18]"
      ],
      "execution_count": null,
      "outputs": [
        {
          "output_type": "execute_result",
          "data": {
            "text/plain": [
              "4      -0.900011\n",
              "8      -0.711358\n",
              "19     -0.524452\n",
              "38     -0.673270\n",
              "43     -0.419666\n",
              "          ...   \n",
              "6602   -0.300978\n",
              "6609   -0.790560\n",
              "6616   -0.563295\n",
              "6626   -0.248118\n",
              "6644   -0.566784\n",
              "Name: Frac_Variability, Length: 749, dtype: float64"
            ]
          },
          "metadata": {},
          "execution_count": 234
        }
      ]
    },
    {
      "cell_type": "code",
      "metadata": {
        "id": "QPzhpbUSmE6I"
      },
      "source": [
        ""
      ],
      "execution_count": null,
      "outputs": []
    }
  ]
}